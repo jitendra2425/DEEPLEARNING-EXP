{
  "nbformat": 4,
  "nbformat_minor": 0,
  "metadata": {
    "colab": {
      "provenance": [],
      "authorship_tag": "ABX9TyO+EEMB0ixgyHDIJwdTt46+",
      "include_colab_link": true
    },
    "kernelspec": {
      "name": "python3",
      "display_name": "Python 3"
    },
    "language_info": {
      "name": "python"
    }
  },
  "cells": [
    {
      "cell_type": "markdown",
      "metadata": {
        "id": "view-in-github",
        "colab_type": "text"
      },
      "source": [
        "<a href=\"https://colab.research.google.com/github/jitendra2425/DEEPLEARNING-EXP/blob/main/manipulating_tensors_DL.ipynb\" target=\"_parent\"><img src=\"https://colab.research.google.com/assets/colab-badge.svg\" alt=\"Open In Colab\"/></a>"
      ]
    },
    {
      "cell_type": "code",
      "execution_count": 2,
      "metadata": {
        "colab": {
          "base_uri": "https://localhost:8080/"
        },
        "id": "A5kD_LkhcK53",
        "outputId": "7e18c312-3e2b-4ca8-a5cb-51cd29fe9b07"
      },
      "outputs": [
        {
          "output_type": "stream",
          "name": "stdout",
          "text": [
            "TF imported with eager execution!\n",
            "even: tf.Tensor([ 2  4  6  8 10 12], shape=(6,), dtype=int32)\n",
            "ones: tf.Tensor([1 1 1 1 1 1], shape=(6,), dtype=int32)\n",
            "just_beyond_primes: tf.Tensor([ 3  5  7  9 11 13], shape=(6,), dtype=int32)\n",
            "primes_doubled: tf.Tensor([ 4  8 12 16 20 24], shape=(6,), dtype=int32)\n",
            "tf.Tensor(\n",
            "[[1 2 3]\n",
            " [4 5 6]], shape=(2, 3), dtype=int32)\n",
            "\n",
            "value of some_matrix is:\n",
            " [[1 2 3]\n",
            " [4 5 6]]\n"
          ]
        }
      ],
      "source": [
        "\n",
        "import tensorflow as tf\n",
        "try:\n",
        " tf.executing_eagerly()\n",
        " print(\"TF imported with eager execution!\")\n",
        "except ValueError:\n",
        " print(\"TF already imported with eager execution!\")\n",
        "even = tf.constant([2, 4, 6, 8, 10, 12], dtype=tf.int32)\n",
        "print(\"even:\", even)\n",
        "ones = tf.ones([6], dtype=tf.int32)\n",
        "print(\"ones:\", ones)\n",
        "just_beyond_primes = tf.add(even, ones)\n",
        "print(\"just_beyond_primes:\", just_beyond_primes)\n",
        "twos = tf.constant([2, 2, 2, 2, 2, 2], dtype=tf.int32)\n",
        "primes_doubled = even * twos\n",
        "print(\"primes_doubled:\", primes_doubled)\n",
        "some_matrix = tf.constant([[1, 2, 3], [4, 5, 6]], dtype=tf.int32)\n",
        "print(some_matrix)\n",
        "print(\"\\nvalue of some_matrix is:\\n\", some_matrix.numpy())"
      ]
    },
    {
      "cell_type": "code",
      "source": [
        "\n",
        "import tensorflow as tf\n",
        "try:\n",
        " tf.executing_eagerly()\n",
        " print(\"TF imported with eager execution!\")\n",
        "except ValueError:\n",
        " print(\"TF already imported with eager execution!\")\n",
        "even = tf.constant([2, 4, 6, 8, 10, 12], dtype=tf.int32)\n",
        "print(\"even:\", even)\n",
        "ones = tf.ones([6], dtype=tf.int32)\n",
        "print(\"ones:\", ones)\n",
        "just_beyond_primes = tf.add(even, ones)\n",
        "print(\"just_beyond_primes:\", just_beyond_primes)\n",
        "twos = tf.constant([2, 2, 2, 2, 2, 2], dtype=tf.int32)\n",
        "primes_doubled = even * twos\n",
        "print(\"primes_doubled:\", primes_doubled)\n",
        "some_matrix = tf.constant([[1, 2, 3], [4, 5, 6],[7,8,9]], dtype=tf.int32)\n",
        "print(some_matrix)\n",
        "print(\"\\nvalue of some_matrix is:\\n\", some_matrix.numpy())"
      ],
      "metadata": {
        "colab": {
          "base_uri": "https://localhost:8080/"
        },
        "id": "hjxXSlBEdh_K",
        "outputId": "ce9820f1-3b6e-407b-b281-cbab1fa7d0f0"
      },
      "execution_count": 3,
      "outputs": [
        {
          "output_type": "stream",
          "name": "stdout",
          "text": [
            "TF imported with eager execution!\n",
            "even: tf.Tensor([ 2  4  6  8 10 12], shape=(6,), dtype=int32)\n",
            "ones: tf.Tensor([1 1 1 1 1 1], shape=(6,), dtype=int32)\n",
            "just_beyond_primes: tf.Tensor([ 3  5  7  9 11 13], shape=(6,), dtype=int32)\n",
            "primes_doubled: tf.Tensor([ 4  8 12 16 20 24], shape=(6,), dtype=int32)\n",
            "tf.Tensor(\n",
            "[[1 2 3]\n",
            " [4 5 6]\n",
            " [7 8 9]], shape=(3, 3), dtype=int32)\n",
            "\n",
            "value of some_matrix is:\n",
            " [[1 2 3]\n",
            " [4 5 6]\n",
            " [7 8 9]]\n"
          ]
        }
      ]
    },
    {
      "cell_type": "code",
      "source": [
        "\n",
        "import tensorflow as tf\n",
        "try:\n",
        " tf.executing_eagerly()\n",
        " print(\"TF imported with eager execution!\")\n",
        "except ValueError:\n",
        " print(\"TF already imported with eager execution!\")\n",
        "even = tf.constant([2, 4, 6, 8, 10, 12], dtype=tf.int32)\n",
        "print(\"even:\", even)\n",
        "ones = tf.ones([6], dtype=tf.int32)\n",
        "print(\"ones:\", ones)\n",
        "just_beyond_primes = tf.add(even, twos)\n",
        "print(\"just_beyond_primes:\", just_beyond_primes)\n",
        "twos = tf.constant([2, 2, 2, 2, 2, 2], dtype=tf.int32)\n",
        "primes_doubled = even * twos\n",
        "print(\"primes_doubled:\", primes_doubled)\n",
        "some_matrix = tf.constant([[1, 2, 1], [3, 4, 1],[5,6, 1],[7,8,1],[9,10,1]], dtype=tf.int32)\n",
        "print(some_matrix)\n",
        "print(\"\\nvalue of some_matrix is:\\n\", some_matrix.numpy())"
      ],
      "metadata": {
        "colab": {
          "base_uri": "https://localhost:8080/"
        },
        "id": "qgvRVQMieg1q",
        "outputId": "96405f48-6d22-418e-a311-52786196f022"
      },
      "execution_count": 7,
      "outputs": [
        {
          "output_type": "stream",
          "name": "stdout",
          "text": [
            "TF imported with eager execution!\n",
            "even: tf.Tensor([ 2  4  6  8 10 12], shape=(6,), dtype=int32)\n",
            "ones: tf.Tensor([1 1 1 1 1 1], shape=(6,), dtype=int32)\n",
            "just_beyond_primes: tf.Tensor([ 4  6  8 10 12 14], shape=(6,), dtype=int32)\n",
            "primes_doubled: tf.Tensor([ 4  8 12 16 20 24], shape=(6,), dtype=int32)\n",
            "tf.Tensor(\n",
            "[[ 1  2  1]\n",
            " [ 3  4  1]\n",
            " [ 5  6  1]\n",
            " [ 7  8  1]\n",
            " [ 9 10  1]], shape=(5, 3), dtype=int32)\n",
            "\n",
            "value of some_matrix is:\n",
            " [[ 1  2  1]\n",
            " [ 3  4  1]\n",
            " [ 5  6  1]\n",
            " [ 7  8  1]\n",
            " [ 9 10  1]]\n"
          ]
        }
      ]
    }
  ]
}